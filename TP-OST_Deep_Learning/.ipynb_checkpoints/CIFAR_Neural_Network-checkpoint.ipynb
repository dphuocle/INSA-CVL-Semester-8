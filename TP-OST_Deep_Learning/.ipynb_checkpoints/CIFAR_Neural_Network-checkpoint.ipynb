{
 "cells": [
  {
   "cell_type": "code",
   "execution_count": 1,
   "id": "8351ee6a",
   "metadata": {},
   "outputs": [],
   "source": [
    "import tensorflow as tf\n",
    "from tensorflow.keras import datasets, layers, models\n",
    "import matplotlib.pyplot as plt"
   ]
  },
  {
   "cell_type": "code",
   "execution_count": 2,
   "id": "05077686",
   "metadata": {},
   "outputs": [
    {
     "name": "stdout",
     "output_type": "stream",
     "text": [
      "60000\n",
      "10000\n"
     ]
    }
   ],
   "source": [
    "# chargement des donnees \n",
    "(train_images, train_labels), (test_images, test_labels) = datasets.mnist.load_data()\n",
    "\n",
    "# taille de l'image\n",
    "M = 28\n",
    "N = 28\n",
    "channel = 1\n",
    "nombre_train = train_images.shape[0]\n",
    "nombre_test = test_images.shape[0]\n",
    "print(nombre_train)\n",
    "print(nombre_test)"
   ]
  },
  {
   "cell_type": "code",
   "execution_count": 3,
   "id": "5435005b",
   "metadata": {},
   "outputs": [],
   "source": [
    "# Normalisation\n",
    "train_images, test_images = train_images / 255.0, test_images / 255.0  \n",
    "\n",
    "# Re-dimension\n",
    "trainX = train_images.reshape((nombre_train, M, N, channel))\n",
    "testX = test_images.reshape((nombre_test, M, N, channel))\n",
    "\n",
    "trainX = trainX.reshape(nombre_train, channel*M*N)\n",
    "testX = testX.reshape(nombre_test, channel*M*N)"
   ]
  },
  {
   "cell_type": "code",
   "execution_count": 5,
   "id": "b19187a0",
   "metadata": {},
   "outputs": [],
   "source": [
    "# L'architecture\n",
    "model = models.Sequential()\n",
    "# Couche d'entree\n",
    "model.add(layers.Dense(64, activation='relu', input_dim=M*N*channel))\n",
    "# Couche cachee suivante\n",
    "model.add(layers.Dense(256, activation='relu', input_dim=64))\n",
    "# Couche cachee suivante\n",
    "model.add(layers.Dense(64, activation='relu', input_dim=256))\n",
    "# Couche de sortie\n",
    "model.add(layers.Dense(10, activation='softmax'))"
   ]
  },
  {
   "cell_type": "code",
   "execution_count": 6,
   "id": "a196d3d0",
   "metadata": {},
   "outputs": [
    {
     "name": "stdout",
     "output_type": "stream",
     "text": [
      "Model: \"sequential\"\n",
      "_________________________________________________________________\n",
      " Layer (type)                Output Shape              Param #   \n",
      "=================================================================\n",
      " dense (Dense)               (None, 64)                50240     \n",
      "                                                                 \n",
      " dense_1 (Dense)             (None, 256)               16640     \n",
      "                                                                 \n",
      " dense_2 (Dense)             (None, 64)                16448     \n",
      "                                                                 \n",
      " dense_3 (Dense)             (None, 10)                650       \n",
      "                                                                 \n",
      "=================================================================\n",
      "Total params: 83978 (328.04 KB)\n",
      "Trainable params: 83978 (328.04 KB)\n",
      "Non-trainable params: 0 (0.00 Byte)\n",
      "_________________________________________________________________\n"
     ]
    }
   ],
   "source": [
    "model.summary()"
   ]
  },
  {
   "cell_type": "code",
   "execution_count": 7,
   "id": "1e12e484",
   "metadata": {},
   "outputs": [],
   "source": [
    "opt = tf.keras.optimizers.SGD(learning_rate=0.01, momentum=0.8)\n",
    "model.compile(optimizer=opt, loss=tf.keras.losses.SparseCategoricalCrossentropy(from_logits=True), metrics=['accuracy'])"
   ]
  },
  {
   "cell_type": "code",
   "execution_count": 8,
   "id": "7752b142",
   "metadata": {},
   "outputs": [
    {
     "name": "stdout",
     "output_type": "stream",
     "text": [
      "[INFO] training model...\n",
      "Epoch 1/30\n"
     ]
    },
    {
     "name": "stderr",
     "output_type": "stream",
     "text": [
      "C:\\Users\\Phuoc Le\\AppData\\Roaming\\Python\\Python311\\site-packages\\keras\\src\\backend.py:5729: UserWarning: \"`sparse_categorical_crossentropy` received `from_logits=True`, but the `output` argument was produced by a Softmax activation and thus does not represent logits. Was this intended?\n",
      "  output, from_logits = _get_logits(\n"
     ]
    },
    {
     "name": "stdout",
     "output_type": "stream",
     "text": [
      "938/938 [==============================] - 2s 2ms/step - loss: 0.5208 - accuracy: 0.8472 - val_loss: 0.2322 - val_accuracy: 0.9322\n",
      "Epoch 2/30\n",
      "938/938 [==============================] - 2s 2ms/step - loss: 0.2087 - accuracy: 0.9378 - val_loss: 0.1702 - val_accuracy: 0.9481\n",
      "Epoch 3/30\n",
      "938/938 [==============================] - 2s 2ms/step - loss: 0.1545 - accuracy: 0.9540 - val_loss: 0.1395 - val_accuracy: 0.9570\n",
      "Epoch 4/30\n",
      "938/938 [==============================] - 2s 2ms/step - loss: 0.1223 - accuracy: 0.9632 - val_loss: 0.1171 - val_accuracy: 0.9643\n",
      "Epoch 5/30\n",
      "938/938 [==============================] - 2s 2ms/step - loss: 0.1042 - accuracy: 0.9686 - val_loss: 0.1025 - val_accuracy: 0.9680\n",
      "Epoch 6/30\n",
      "938/938 [==============================] - 2s 2ms/step - loss: 0.0881 - accuracy: 0.9732 - val_loss: 0.0966 - val_accuracy: 0.9715\n",
      "Epoch 7/30\n",
      "938/938 [==============================] - 2s 2ms/step - loss: 0.0774 - accuracy: 0.9762 - val_loss: 0.1010 - val_accuracy: 0.9666\n",
      "Epoch 8/30\n",
      "938/938 [==============================] - 2s 2ms/step - loss: 0.0680 - accuracy: 0.9792 - val_loss: 0.0900 - val_accuracy: 0.9733\n",
      "Epoch 9/30\n",
      "938/938 [==============================] - 2s 2ms/step - loss: 0.0600 - accuracy: 0.9813 - val_loss: 0.0847 - val_accuracy: 0.9730\n",
      "Epoch 10/30\n",
      "938/938 [==============================] - 2s 2ms/step - loss: 0.0536 - accuracy: 0.9839 - val_loss: 0.0873 - val_accuracy: 0.9718\n",
      "Epoch 11/30\n",
      "938/938 [==============================] - 2s 2ms/step - loss: 0.0481 - accuracy: 0.9861 - val_loss: 0.0841 - val_accuracy: 0.9739\n",
      "Epoch 12/30\n",
      "938/938 [==============================] - 2s 2ms/step - loss: 0.0432 - accuracy: 0.9872 - val_loss: 0.0829 - val_accuracy: 0.9755\n",
      "Epoch 13/30\n",
      "938/938 [==============================] - 2s 2ms/step - loss: 0.0393 - accuracy: 0.9882 - val_loss: 0.0791 - val_accuracy: 0.9768\n",
      "Epoch 14/30\n",
      "938/938 [==============================] - 2s 2ms/step - loss: 0.0353 - accuracy: 0.9896 - val_loss: 0.0772 - val_accuracy: 0.9775\n",
      "Epoch 15/30\n",
      "938/938 [==============================] - 2s 2ms/step - loss: 0.0320 - accuracy: 0.9902 - val_loss: 0.0865 - val_accuracy: 0.9732\n",
      "Epoch 16/30\n",
      "938/938 [==============================] - 2s 2ms/step - loss: 0.0288 - accuracy: 0.9913 - val_loss: 0.0768 - val_accuracy: 0.9774\n",
      "Epoch 17/30\n",
      "938/938 [==============================] - 2s 2ms/step - loss: 0.0254 - accuracy: 0.9923 - val_loss: 0.0788 - val_accuracy: 0.9765\n",
      "Epoch 18/30\n",
      "938/938 [==============================] - 2s 2ms/step - loss: 0.0229 - accuracy: 0.9934 - val_loss: 0.0834 - val_accuracy: 0.9767\n",
      "Epoch 19/30\n",
      "938/938 [==============================] - 2s 2ms/step - loss: 0.0217 - accuracy: 0.9937 - val_loss: 0.0865 - val_accuracy: 0.9765\n",
      "Epoch 20/30\n",
      "938/938 [==============================] - 2s 2ms/step - loss: 0.0175 - accuracy: 0.9953 - val_loss: 0.0819 - val_accuracy: 0.9763\n",
      "Epoch 21/30\n",
      "938/938 [==============================] - 2s 2ms/step - loss: 0.0156 - accuracy: 0.9957 - val_loss: 0.0813 - val_accuracy: 0.9778\n",
      "Epoch 22/30\n",
      "938/938 [==============================] - 2s 2ms/step - loss: 0.0151 - accuracy: 0.9962 - val_loss: 0.0902 - val_accuracy: 0.9770\n",
      "Epoch 23/30\n",
      "938/938 [==============================] - 2s 3ms/step - loss: 0.0126 - accuracy: 0.9967 - val_loss: 0.0854 - val_accuracy: 0.9777\n",
      "Epoch 24/30\n",
      "938/938 [==============================] - 3s 3ms/step - loss: 0.0111 - accuracy: 0.9973 - val_loss: 0.0863 - val_accuracy: 0.9785\n",
      "Epoch 25/30\n",
      "938/938 [==============================] - 2s 3ms/step - loss: 0.0099 - accuracy: 0.9975 - val_loss: 0.0837 - val_accuracy: 0.9790\n",
      "Epoch 26/30\n",
      "938/938 [==============================] - 2s 3ms/step - loss: 0.0088 - accuracy: 0.9980 - val_loss: 0.0863 - val_accuracy: 0.9792\n",
      "Epoch 27/30\n",
      "938/938 [==============================] - 3s 3ms/step - loss: 0.0072 - accuracy: 0.9984 - val_loss: 0.0918 - val_accuracy: 0.9771\n",
      "Epoch 28/30\n",
      "938/938 [==============================] - 3s 3ms/step - loss: 0.0066 - accuracy: 0.9987 - val_loss: 0.0915 - val_accuracy: 0.9782\n",
      "Epoch 29/30\n",
      "938/938 [==============================] - 3s 3ms/step - loss: 0.0053 - accuracy: 0.9992 - val_loss: 0.0894 - val_accuracy: 0.9784\n",
      "Epoch 30/30\n",
      "938/938 [==============================] - 3s 3ms/step - loss: 0.0050 - accuracy: 0.9992 - val_loss: 0.0976 - val_accuracy: 0.9773\n"
     ]
    }
   ],
   "source": [
    "print(\"[INFO] training model...\")\n",
    "history = model.fit(trainX, train_labels, validation_data=(testX, test_labels), batch_size=64, epochs=30)"
   ]
  },
  {
   "cell_type": "code",
   "execution_count": 9,
   "id": "4c2fec1d",
   "metadata": {},
   "outputs": [
    {
     "data": {
      "text/plain": [
       "<matplotlib.legend.Legend at 0x29c1c44ba10>"
      ]
     },
     "execution_count": 9,
     "metadata": {},
     "output_type": "execute_result"
    },
    {
     "data": {
      "image/png": "[encoded data removed]",
      "text/plain": [
       "<Figure size 640x480 with 1 Axes>"
      ]
     },
     "metadata": {},
     "output_type": "display_data"
    }
   ],
   "source": [
    "plt.plot(history.history['loss'], label='loss')\n",
    "plt.plot(history.history['val_loss'], label='val_loss')\n",
    "plt.xlabel('Epoch')\n",
    "plt.ylabel('loss')\n",
    "plt.legend(loc='lower right')"
   ]
  },
  {
   "cell_type": "code",
   "execution_count": null,
   "id": "e1707af7",
   "metadata": {},
   "outputs": [],
   "source": [
    "plt.plot(history.history['accuracy'], label='accuracy')\n",
    "plt.plot(history.history['val_accuracy'], label='val_accuracy')\n",
    "plt.xlabel('Epoch')\n",
    "plt.ylabel('Accuracy')\n",
    "plt.legend(loc='lower right')\n",
    "\n",
    "test_loss, test_acc = model.eval"
   ]
  }
 ],
 "metadata": {
  "kernelspec": {
   "display_name": "Python 3 (ipykernel)",
   "language": "python",
   "name": "python3"
  },
  "language_info": {
   "codemirror_mode": {
    "name": "ipython",
    "version": 3
   },
   "file_extension": ".py",
   "mimetype": "text/x-python",
   "name": "python",
   "nbconvert_exporter": "python",
   "pygments_lexer": "ipython3",
   "version": "3.11.4"
  }
 },
 "nbformat": 4,
 "nbformat_minor": 5
}
